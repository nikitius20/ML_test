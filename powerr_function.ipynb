{
  "nbformat": 4,
  "nbformat_minor": 0,
  "metadata": {
    "colab": {
      "provenance": [],
      "authorship_tag": "ABX9TyPCOKKvwaJaXUvtfUO7y/TM",
      "include_colab_link": true
    },
    "kernelspec": {
      "name": "python3",
      "display_name": "Python 3"
    },
    "language_info": {
      "name": "python"
    }
  },
  "cells": [
    {
      "cell_type": "markdown",
      "metadata": {
        "id": "view-in-github",
        "colab_type": "text"
      },
      "source": [
        "<a href=\"https://colab.research.google.com/github/nikitius20/ML_test/blob/main/powerr_function.ipynb\" target=\"_parent\"><img src=\"https://colab.research.google.com/assets/colab-badge.svg\" alt=\"Open In Colab\"/></a>"
      ]
    },
    {
      "cell_type": "code",
      "execution_count": null,
      "metadata": {
        "id": "rkG-AbwsEG93"
      },
      "outputs": [],
      "source": [
        "import numpy as np\n",
        "import torch\n",
        "import torch.nn as nn\n",
        "import torch.nn.functional as F\n",
        "\n",
        "import matplotlib.pyplot as plt\n",
        "%matplotlib inline\n",
        "import pandas as pd\n",
        "\n",
        "from sklearn.model_selection import train_test_split"
      ]
    },
    {
      "cell_type": "code",
      "source": [
        "class PowerModel(nn.Module):\n",
        "  def __init__(self, in_features=1, out_features=1):\n",
        "    super().__init__()\n",
        "    #create a new parametr what represents N in y=x^n. And because this is parametr, it is learnable\n",
        "    self.power = nn.Parameter(max(torch.tensor([0.]),torch.randn(in_features, out_features))) # to stop 'inf' error if power was < 0\n",
        "\n",
        "  def forward(self, input):\n",
        "\n",
        "\n",
        "    #print(self.power)     !!trying to set up range [1, 3], but unsuccessful\n",
        "\n",
        "    #print(self.power<1)\n",
        "    #self.power = nn.Parameter(torch.clamp(self.power, min=1, max=3)) this dont work right\n",
        "\n",
        "    #if(self.power<1):\n",
        "      #print(\"power changed\")\n",
        "      #self.power = nn.Parameter(torch.tensor([1.]));\n",
        "    #elif(self.power>3):\n",
        "      #self.power = nn.Parameter(torch.tensor([3.]));\n",
        "\n",
        "    return torch.pow(input, self.power)   #y=x^n"
      ],
      "metadata": {
        "id": "LWusvCuNFc3-"
      },
      "execution_count": null,
      "outputs": []
    },
    {
      "cell_type": "code",
      "source": [
        "#generate a dataset of random numbers, using N for power\n",
        "\n",
        "import random\n",
        "\n",
        "list_x = []\n",
        "list_y = []\n",
        "\n",
        "power = 2.4  # power value\n",
        "\n",
        "for x in range(8):\n",
        "  row_list_x =[]\n",
        "  row_list_y =[]\n",
        "  for y in range(16):\n",
        "    r = random.randint(0,100);\n",
        "    row_list_x.append(r)\n",
        "    row_list_y.append(pow(r,power))\n",
        "\n",
        "\n",
        "  list_x.append(row_list_x)\n",
        "  list_y.append(row_list_y)\n",
        "\n",
        "print(list_x)\n",
        "print(list_y)\n",
        "\n",
        "\n",
        "x = list_x\n",
        "y = list_y"
      ],
      "metadata": {
        "id": "S8mo0ltAGGdD",
        "colab": {
          "base_uri": "https://localhost:8080/"
        },
        "outputId": "ece6391f-48bb-4243-e773-a2024e1bb487"
      },
      "execution_count": null,
      "outputs": [
        {
          "output_type": "stream",
          "name": "stdout",
          "text": [
            "[[67, 4, 36, 65, 42, 43, 26, 75, 20, 80, 60, 37, 97, 61, 6, 59], [59, 51, 99, 23, 56, 84, 40, 25, 77, 53, 100, 7, 85, 88, 19, 30], [88, 9, 95, 69, 25, 65, 68, 67, 83, 62, 44, 100, 80, 68, 99, 21], [42, 32, 2, 96, 91, 19, 17, 23, 30, 58, 21, 34, 73, 63, 1, 59], [85, 98, 21, 17, 25, 28, 88, 82, 84, 81, 46, 30, 73, 88, 43, 23], [58, 69, 67, 64, 34, 86, 11, 57, 18, 32, 87, 34, 58, 5, 64, 28], [44, 77, 14, 73, 66, 5, 39, 100, 87, 48, 6, 98, 94, 2, 80, 80], [82, 74, 27, 97, 50, 10, 96, 50, 56, 98, 97, 92, 17, 40, 94, 44]]\n",
            "[[24131.2337482305, 27.85761802547597, 5434.079675567798, 22438.408793671777, 7866.803402593006, 8323.850919752134, 2488.490775030509, 31633.484432121404, 1325.7816069359944, 36933.117591224654, 18516.674868318143, 5803.421813090341, 58647.85898132894, 19266.002132715064, 73.71621039885189, 17784.62973778223], [17784.62973778223, 12536.272466684604, 61592.02274994129, 1854.1582866376455, 15691.023210227366, 41521.23728886637, 6997.517273236977, 2264.936448992798, 33695.95274190325, 13748.714289782336, 63095.7344480193, 106.7174147996562, 42717.460027303074, 46425.6949190571, 1172.218691999976, 3508.253856824569], [46425.6949190571, 195.06619950773603, 55787.468251553226, 25896.30597411405, 2264.936448992798, 22438.408793671777, 25004.685153266328, 24131.2337482305, 40344.78651214203, 20032.726177336514, 8796.02436257156, 63095.7344480193, 36933.117591224654, 25004.685153266328, 61592.02274994129, 1490.4805303488235], [7866.803402593006, 4095.9999999999986, 5.278031643091577, 57207.235236815795, 50315.21601649501, 1172.218691999976, 897.5887719617443, 1854.1582866376455, 3508.253856824569, 17069.75094237318, 1490.4805303488235, 4737.501940897796, 29646.597986079327, 20816.960526259554, 1.0, 17784.62973778223], [42717.460027303074, 60109.42611911474, 1490.4805303488235, 897.5887719617443, 2264.936448992798, 2972.8929781550983, 46425.6949190571, 39188.01320516982, 41521.23728886637, 38050.822190391875, 9786.306108173954, 3508.253856824569, 29646.597986079327, 46425.6949190571, 8323.850919752134, 1854.1582866376455], [17069.75094237318, 25896.30597411405, 24131.2337482305, 21618.81761010309, 4737.501940897796, 43933.548546828686, 315.7493348687436, 16371.921499569133, 1029.5655734994452, 4095.9999999999986, 45169.596006853215, 4737.501940897796, 17069.75094237318, 47.59134846789696, 21618.81761010309, 2972.8929781550983], [8796.02436257156, 33695.95274190325, 563.2578921815148, 29646.597986079327, 23275.844402481842, 47.59134846789696, 6584.989046083984, 63095.7344480193, 45169.596006853215, 10838.744271587388, 73.71621039885189, 60109.42611911474, 54388.470848332356, 5.278031643091577, 36933.117591224654, 36933.117591224654], [39188.01320516982, 30630.64396769871, 2724.4135649391355, 58647.85898132894, 11954.406247375458, 251.18864315095797, 57207.235236815795, 11954.406247375458, 15691.023210227366, 60109.42611911474, 58647.85898132894, 51652.43330792251, 897.5887719617443, 6997.517273236977, 54388.470848332356, 8796.02436257156]]\n"
          ]
        }
      ]
    },
    {
      "cell_type": "code",
      "source": [
        "x_train, x_test, y_train, y_test = train_test_split(x, y, test_size=0.1)\n",
        "\n",
        "x_train = torch.FloatTensor(x_train);\n",
        "x_test = torch.FloatTensor(x_test);\n",
        "\n",
        "\n",
        "y_train = torch.FloatTensor(y_train);\n",
        "y_test = torch.FloatTensor(y_test);\n"
      ],
      "metadata": {
        "id": "8-KPIULwJYFK"
      },
      "execution_count": null,
      "outputs": []
    },
    {
      "cell_type": "code",
      "source": [
        "model = PowerModel()\n",
        "\n",
        "criterian = nn.MSELoss();\n",
        "\n",
        "optimizer = torch.optim.Adam(model.parameters(), lr=0.05)"
      ],
      "metadata": {
        "id": "xKYCxvzoKWLK"
      },
      "execution_count": null,
      "outputs": []
    },
    {
      "cell_type": "code",
      "source": [
        "epoch = 200\n",
        "\n",
        "losses = []\n",
        "\n",
        "for i in range(epoch):\n",
        "\n",
        "  y_pred = model.forward(x_train);\n",
        "\n",
        "  loss = criterian(y_pred, y_train);\n",
        "  losses.append(loss.detach().numpy())\n",
        "  if(i%10==0):\n",
        "    print(f'Epoch: {i}, and loss: {loss}');\n",
        "\n",
        "\n",
        "  optimizer.zero_grad()\n",
        "  loss.backward()\n",
        "  optimizer.step()\n",
        "\n",
        "plt.plot(losses)\n",
        "plt.title('Losses')\n",
        "plt.show()"
      ],
      "metadata": {
        "id": "ai4I7fqfK29u",
        "colab": {
          "base_uri": "https://localhost:8080/",
          "height": 799
        },
        "outputId": "c76dbc19-be04-44f0-be66-5c3b2087f38e"
      },
      "execution_count": null,
      "outputs": [
        {
          "output_type": "stream",
          "name": "stdout",
          "text": [
            "Epoch: 0, and loss: 950885248.0\n",
            "Epoch: 10, and loss: 950516416.0\n",
            "Epoch: 20, and loss: 946804352.0\n",
            "Epoch: 30, and loss: 899905152.0\n",
            "Epoch: 40, and loss: 278233664.0\n",
            "Epoch: 50, and loss: 37472184.0\n",
            "Epoch: 60, and loss: 5803240.0\n",
            "Epoch: 70, and loss: 13303305.0\n",
            "Epoch: 80, and loss: 5822388.5\n",
            "Epoch: 90, and loss: 1013372.5625\n",
            "Epoch: 100, and loss: 16176.083984375\n",
            "Epoch: 110, and loss: 208239.359375\n",
            "Epoch: 120, and loss: 69075.6796875\n",
            "Epoch: 130, and loss: 899.3057861328125\n",
            "Epoch: 140, and loss: 11929.890625\n",
            "Epoch: 150, and loss: 666.5092163085938\n",
            "Epoch: 160, and loss: 1124.622314453125\n",
            "Epoch: 170, and loss: 186.5859832763672\n",
            "Epoch: 180, and loss: 128.99623107910156\n",
            "Epoch: 190, and loss: 18.435699462890625\n"
          ]
        },
        {
          "output_type": "display_data",
          "data": {
            "text/plain": [
              "<Figure size 640x480 with 1 Axes>"
            ],
            "image/png": "[encoded data removed]"
          },
          "metadata": {}
        }
      ]
    },
    {
      "cell_type": "code",
      "source": [
        "model.forward(x_test)"
      ],
      "metadata": {
        "colab": {
          "base_uri": "https://localhost:8080/"
        },
        "id": "PDF0mE3iRP27",
        "outputId": "56b5e53e-3510-45ff-87f7-d0ffff3abd8c"
      },
      "execution_count": null,
      "outputs": [
        {
          "output_type": "execute_result",
          "data": {
            "text/plain": [
              "tensor([[7.8658e+03, 4.0955e+03, 5.2779e+00, 5.7199e+04, 5.0308e+04, 1.1721e+03,\n",
              "         8.9750e+02, 1.8540e+03, 3.5079e+03, 1.7067e+04, 1.4903e+03, 4.7369e+03,\n",
              "         2.9642e+04, 2.0814e+04, 1.0000e+00, 1.7782e+04]],\n",
              "       grad_fn=<PowBackward1>)"
            ]
          },
          "metadata": {},
          "execution_count": 50
        }
      ]
    },
    {
      "cell_type": "code",
      "source": [
        "x_test"
      ],
      "metadata": {
        "colab": {
          "base_uri": "https://localhost:8080/"
        },
        "id": "1LS4iMyxRVFX",
        "outputId": "64373005-362f-4e30-b7e2-f3c474a570d7"
      },
      "execution_count": null,
      "outputs": [
        {
          "output_type": "execute_result",
          "data": {
            "text/plain": [
              "tensor([[42., 32.,  2., 96., 91., 19., 17., 23., 30., 58., 21., 34., 73., 63.,\n",
              "          1., 59.]])"
            ]
          },
          "metadata": {},
          "execution_count": 51
        }
      ]
    },
    {
      "cell_type": "code",
      "source": [
        "y_test"
      ],
      "metadata": {
        "colab": {
          "base_uri": "https://localhost:8080/"
        },
        "id": "ajipC5pXRWEy",
        "outputId": "ea2b26c3-4c2b-4fa7-acdd-dac2907c5645"
      },
      "execution_count": null,
      "outputs": [
        {
          "output_type": "execute_result",
          "data": {
            "text/plain": [
              "tensor([[7.8668e+03, 4.0960e+03, 5.2780e+00, 5.7207e+04, 5.0315e+04, 1.1722e+03,\n",
              "         8.9759e+02, 1.8542e+03, 3.5083e+03, 1.7070e+04, 1.4905e+03, 4.7375e+03,\n",
              "         2.9647e+04, 2.0817e+04, 1.0000e+00, 1.7785e+04]])"
            ]
          },
          "metadata": {},
          "execution_count": 52
        }
      ]
    },
    {
      "cell_type": "code",
      "source": [
        "#predicted power value\n",
        "\n",
        "model.state_dict()['power']"
      ],
      "metadata": {
        "colab": {
          "base_uri": "https://localhost:8080/"
        },
        "id": "cqFuVuDBR_Iz",
        "outputId": "bab5e7ae-004a-4a6f-c227-ef1fd5d4a264"
      },
      "execution_count": null,
      "outputs": [
        {
          "output_type": "execute_result",
          "data": {
            "text/plain": [
              "tensor([2.4000])"
            ]
          },
          "metadata": {},
          "execution_count": 53
        }
      ]
    }
  ]
}